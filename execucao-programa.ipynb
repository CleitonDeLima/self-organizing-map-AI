{
 "cells": [
  {
   "cell_type": "code",
   "execution_count": null,
   "metadata": {},
   "outputs": [],
   "source": [
    "# Trabalho feito por: \n",
    "# - Cleiton de Lima pinto\n",
    "# - Kevin Mitchell Spiller\n",
    "# - Leduan Carlos Rabaioli"
   ]
  },
  {
   "cell_type": "markdown",
   "metadata": {},
   "source": [
    "# Tutorial\n",
    "\n",
    "* Para exencutar o código, é precisa clicar em cada bloco abaixo e executar o bloco com o botão \"Run\" logo acima"
   ]
  },
  {
   "cell_type": "markdown",
   "metadata": {},
   "source": [
    "#### Inicialização do código, libs necessarias"
   ]
  },
  {
   "cell_type": "code",
   "execution_count": 27,
   "metadata": {},
   "outputs": [],
   "source": [
    "import sys\n",
    "\n",
    "import pandas as pd\n",
    "import numpy as np\n",
    "import matplotlib.pyplot as plt\n",
    "\n",
    "from minisom import MiniSom\n",
    "\n",
    "from utils import progress\n",
    "%matplotlib inline\n",
    "\n",
    "DIM_X, DIM_Y = 10, 10\n",
    "ITERATION = 2000\n",
    "\n",
    "datasetfull_filename = 'data/dataset_full.txt'\n",
    "datatest_filename = 'data/datatest.txt'\n",
    "datatest2_filename = 'data/datatest2.txt'\n",
    "datatraining_filename = 'data/datatraining.txt'"
   ]
  },
  {
   "cell_type": "markdown",
   "metadata": {},
   "source": [
    "#### Funções auxiliares"
   ]
  },
  {
   "cell_type": "code",
   "execution_count": 28,
   "metadata": {},
   "outputs": [],
   "source": [
    "def clean_dataset(filename):\n",
    "    dataset = pd.read_csv(filename, usecols=range(1, 7), parse_dates=[0])\n",
    "    dataset['date'] = dataset['date'].apply(lambda x: float(x.value))\n",
    "    return np.apply_along_axis(lambda x: x / np.linalg.norm(x), 1, dataset)\n",
    "\n",
    "def get_labels(filename):\n",
    "    return np.genfromtxt(filename, delimiter=',', usecols=(7,), dtype=int, skip_header=True)\n",
    "\n",
    "def calc_precision(dataset_filename):\n",
    "    data = clean_dataset(datatraining_filename)\n",
    "    labels = get_labels(datatraining_filename)\n",
    "\n",
    "    som = MiniSom(DIM_X, DIM_Y, 6, sigma=0.8, learning_rate=0.3)\n",
    "    som.random_weights_init(data)  # inicia com pesos aleatorios\n",
    "\n",
    "    progress(0, 100, 'Treinando...')\n",
    "    som.train_batch(data, num_iteration=ITERATION)\n",
    "    \n",
    "    label_map = np.zeros(shape=(DIM_X, DIM_Y))\n",
    "    label_map *= -1\n",
    "\n",
    "    for i, d in enumerate(data):\n",
    "        x, y = som.winner(d)\n",
    "        l = labels[i]\n",
    "        label_map[x][y] = l\n",
    "\n",
    "    data_test = clean_dataset(dataset_filename)\n",
    "    labels_test = get_labels(dataset_filename)\n",
    "\n",
    "    fig = plt.figure(figsize=(10, 10))\n",
    "    ax = fig.gca()\n",
    "    ax.set_xticks(np.arange(0, DIM_X, 1))\n",
    "    ax.set_yticks(np.arange(0, DIM_Y, 1))\n",
    "\n",
    "    hit_1 = 0\n",
    "    hit_0 = 0\n",
    "    total1 = len([x for x in labels_test if x == 1])\n",
    "    total0 = len([x for x in labels_test if x == 0])\n",
    "    colors = ['b', 'g']\n",
    "    # azul = 0\n",
    "    # verde = 1\n",
    "    # none = neuronios nao excitados\n",
    "    for i, t in enumerate(zip(data_test, labels_test)):\n",
    "        d, l = t\n",
    "        x, y = som.winner(d)\n",
    "        \n",
    "        if l == 1 and l == label_map[x][y]:\n",
    "            hit_1 += 1\n",
    "        elif l == 0 and l == label_map[x][y]:\n",
    "            hit_0 += 1\n",
    "        \n",
    "        progress(i, len(labels_test), 'Neuron {} \\t-> {}'.format((x, y), l))\n",
    "        \n",
    "        plt.scatter(x+0.5, y+0.5, color=colors[l])\n",
    "\n",
    "    plt.axis([0, DIM_X, 0, DIM_Y])\n",
    "    plt.grid()\n",
    "    plt.show()\n",
    "\n",
    "    precision_1 = round((hit_1 * 100) / total1, 4)\n",
    "    precision_0 = round((hit_0 * 100) / total0, 4)\n",
    "    error_1 = 100.0 - precision_1\n",
    "    error_0 = 100.0 - precision_0\n",
    "    print('')\n",
    "\n",
    "    print('Taxa de acerto da classe 1 \\t-> {}%'.format(precision_1))\n",
    "    print('Taxa de acerto da classe 0 \\t-> {}%'.format(precision_0))\n",
    "    print('Total: {}%'.format((precision_1+precision_0)/2))\n",
    "\n",
    "    print('')\n",
    "    print('Taxa de erro da classe 1 \\t-> {}%'.format(error_1))\n",
    "    print('Taxa de erro da classe 0 \\t-> {}%'.format(error_0))\n",
    "    \n",
    "    progress(100, 100, 'Feito!!!')"
   ]
  },
  {
   "cell_type": "markdown",
   "metadata": {},
   "source": [
    "#### Teste com o arquivo datatest.txt e datatest2.txt"
   ]
  },
  {
   "cell_type": "code",
   "execution_count": 29,
   "metadata": {
    "scrolled": true
   },
   "outputs": [
    {
     "name": "stdout",
     "output_type": "stream",
     "text": [
      "[============================================================] 100.0% ...Neuron (9, 2) \t-> 1\r"
     ]
    },
    {
     "data": {
      "image/png": "[encoded data removed]",
      "text/plain": [
       "<matplotlib.figure.Figure at 0x7fd763cdff60>"
      ]
     },
     "metadata": {},
     "output_type": "display_data"
    },
    {
     "name": "stdout",
     "output_type": "stream",
     "text": [
      "\n",
      "Taxa de acerto da classe 1 \t-> 98.8683%\n",
      "Taxa de acerto da classe 0 \t-> 96.8104%\n",
      "Total: 97.83935%\n",
      "\n",
      "Taxa de erro da classe 1 \t-> 1.131699999999995%\n",
      "Taxa de erro da classe 0 \t-> 3.1895999999999987%\n",
      "[============================================================] 100.0% ...Feito!!!\r"
     ]
    }
   ],
   "source": [
    "calc_precision(datatest_filename)"
   ]
  },
  {
   "cell_type": "code",
   "execution_count": null,
   "metadata": {},
   "outputs": [],
   "source": [
    "calc_precision(datatest2_filename)"
   ]
  }
 ],
 "metadata": {
  "kernelspec": {
   "display_name": "Python 3",
   "language": "python",
   "name": "python3"
  },
  "language_info": {
   "codemirror_mode": {
    "name": "ipython",
    "version": 3
   },
   "file_extension": ".py",
   "mimetype": "text/x-python",
   "name": "python",
   "nbconvert_exporter": "python",
   "pygments_lexer": "ipython3",
   "version": "3.6.2"
  }
 },
 "nbformat": 4,
 "nbformat_minor": 2
}
