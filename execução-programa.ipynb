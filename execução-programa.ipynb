{
 "cells": [
  {
   "cell_type": "markdown",
   "metadata": {},
   "source": [
    "## Inicialização do código, libs necessarias"
   ]
  },
  {
   "cell_type": "code",
   "execution_count": 1,
   "metadata": {},
   "outputs": [],
   "source": [
    "import sys\n",
    "\n",
    "import pandas as pd\n",
    "import numpy as np\n",
    "import matplotlib.pyplot as plt\n",
    "\n",
    "from minisom import MiniSom\n",
    "\n",
    "from utils import progress\n",
    "%matplotlib inline"
   ]
  },
  {
   "cell_type": "markdown",
   "metadata": {},
   "source": [
    "## Funções auxiliares"
   ]
  },
  {
   "cell_type": "code",
   "execution_count": 2,
   "metadata": {},
   "outputs": [],
   "source": [
    "def clean_dataset(filename):\n",
    "    dataset = pd.read_csv(filename, usecols=range(1, 7), parse_dates=[0])\n",
    "    dataset['date'] = dataset['date'].apply(lambda x: float(x.value))\n",
    "    return np.apply_along_axis(lambda x: x / np.linalg.norm(x), 1, dataset)\n",
    "\n",
    "def get_labels(filename):\n",
    "    return np.genfromtxt(filename, delimiter=',', usecols=(7,), dtype=int, skip_header=True)\n",
    "\n",
    "def calc_precision(dataset_filename):\n",
    "    label_map = np.zeros(shape=(DIM_X, DIM_Y))\n",
    "    label_map *= -1\n",
    "\n",
    "    for i, d in enumerate(data):\n",
    "        x, y = som.winner(d)\n",
    "        l = labels[i]\n",
    "        label_map[x][y] = l\n",
    "\n",
    "    data_test = clean_dataset(dataset_filename)\n",
    "    labels_test = get_labels(dataset_filename)\n",
    "\n",
    "    hit_1 = 0\n",
    "    hit_0 = 0\n",
    "    total = len(data_test)\n",
    "\n",
    "    for i, t in enumerate(zip(data_test, labels_test)):\n",
    "        d, l = t\n",
    "        x, y = som.winner(d)\n",
    "\n",
    "        if l == 1 and l == label_map[x][y]:\n",
    "            hit_1 += 1\n",
    "        elif l == 0 and l == label_map[x][y]:\n",
    "            hit_0 += 1\n",
    "\n",
    "        progress(i, total, 'Neuron {} -> {}'.format((x, y), l))\n",
    "\n",
    "    precision_1 = round((hit_1 * 100) / total, 4)\n",
    "    precision_0 = round((hit_0 * 100) / total, 4)\n",
    "    error_1 = 100.0 - precision_1\n",
    "    error_0 = 100.0 - precision_0\n",
    "    print('')\n",
    "\n",
    "    print('Taxa de acerto da classe 1 \\t-> {}%'.format(precision_1))\n",
    "    print('Taxa de acerto da classe 0 \\t-> {}%'.format(precision_0))\n",
    "    print('Total: {}%'.format(precision_1+precision_0))\n",
    "\n",
    "    print('')\n",
    "    print('Taxa de erro da classe 1 \\t-> {}%'.format(error_1))\n",
    "    print('Taxa de erro da classe 0 \\t-> {}%'.format(error_0))"
   ]
  },
  {
   "cell_type": "markdown",
   "metadata": {},
   "source": [
    "## Leitura dos dados (treinamento)"
   ]
  },
  {
   "cell_type": "code",
   "execution_count": 22,
   "metadata": {},
   "outputs": [
    {
     "name": "stdout",
     "output_type": "stream",
     "text": [
      "Treinando......Feito!\n"
     ]
    }
   ],
   "source": [
    "datasetfull_filename = 'data/dataset_full.txt'\n",
    "datatest_filename = 'data/datatest.txt'\n",
    "datatest2_filename = 'data/datatest2.txt'\n",
    "datatraining_filename = 'data/datatraining.txt'\n",
    "DIM_X, DIM_Y = 12, 12\n",
    "ITERATION = 20\n",
    "\n",
    "data = clean_dataset(datatraining_filename)\n",
    "labels = get_labels(datatraining_filename)\n",
    "\n",
    "som = MiniSom(DIM_X, DIM_Y, 6, sigma=1.0, learning_rate=0.3)\n",
    "som.random_weights_init(data)  # inicia com pesos aleatorios\n",
    "\n",
    "# som.train_random(data, 2000)\n",
    "print('Treinando...', end='')\n",
    "som.train_batch(data, num_iteration=ITERATION)\n",
    "print('...Feito!')"
   ]
  },
  {
   "cell_type": "code",
   "execution_count": 24,
   "metadata": {
    "scrolled": false
   },
   "outputs": [
    {
     "data": {
      "image/png": "[encoded data removed]",
      "text/plain": [
       "<matplotlib.figure.Figure at 0x7f74afdf04e0>"
      ]
     },
     "metadata": {},
     "output_type": "display_data"
    }
   ],
   "source": [
    "fig = plt.figure(figsize=(10, 10))\n",
    "ax = fig.gca()\n",
    "ax.set_xticks(np.arange(0, DIM_X, 1))\n",
    "ax.set_yticks(np.arange(0, DIM_Y, 1))\n",
    "\n",
    "labels = get_labels(datatest_filename)\n",
    "data2 = clean_dataset(datatest_filename)\n",
    "\n",
    "colors = ['b', 'g']\n",
    "# azul = 0\n",
    "# verde = 1\n",
    "# none = neuronios nao excitados\n",
    "for d, t in zip(data2, labels):\n",
    "    w = som.winner(d)\n",
    "    x, y = w\n",
    "    plt.scatter(x+0.5, y+0.5, color=colors[t])\n",
    "\n",
    "plt.axis([0, DIM_X, 0, DIM_Y])\n",
    "plt.grid()\n",
    "plt.show()"
   ]
  },
  {
   "cell_type": "code",
   "execution_count": null,
   "metadata": {},
   "outputs": [],
   "source": []
  }
 ],
 "metadata": {
  "kernelspec": {
   "display_name": "Python 3",
   "language": "python",
   "name": "python3"
  },
  "language_info": {
   "codemirror_mode": {
    "name": "ipython",
    "version": 3
   },
   "file_extension": ".py",
   "mimetype": "text/x-python",
   "name": "python",
   "nbconvert_exporter": "python",
   "pygments_lexer": "ipython3",
   "version": "3.6.2"
  }
 },
 "nbformat": 4,
 "nbformat_minor": 2
}
