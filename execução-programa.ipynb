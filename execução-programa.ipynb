{
 "cells": [
  {
   "cell_type": "markdown",
   "metadata": {},
   "source": [
    "## Inicialização do código, libs necessarias"
   ]
  },
  {
   "cell_type": "code",
   "execution_count": 9,
   "metadata": {},
   "outputs": [],
   "source": [
    "import sys\n",
    "\n",
    "import pandas as pd\n",
    "import numpy as np\n",
    "import matplotlib.pyplot as plt\n",
    "\n",
    "from minisom import MiniSom\n",
    "\n",
    "from utils import progress\n",
    "%matplotlib inline\n",
    "\n",
    "DIM_X, DIM_Y = 12, 12\n",
    "ITERATION = 20\n",
    "\n",
    "datasetfull_filename = 'data/dataset_full.txt'\n",
    "datatest_filename = 'data/datatest.txt'\n",
    "datatest2_filename = 'data/datatest2.txt'\n",
    "datatraining_filename = 'data/datatraining.txt'"
   ]
  },
  {
   "cell_type": "markdown",
   "metadata": {},
   "source": [
    "## Funções auxiliares"
   ]
  },
  {
   "cell_type": "code",
   "execution_count": 16,
   "metadata": {},
   "outputs": [],
   "source": [
    "def clean_dataset(filename):\n",
    "    dataset = pd.read_csv(filename, usecols=range(1, 7), parse_dates=[0])\n",
    "    dataset['date'] = dataset['date'].apply(lambda x: float(x.value))\n",
    "    return np.apply_along_axis(lambda x: x / np.linalg.norm(x), 1, dataset)\n",
    "\n",
    "def get_labels(filename):\n",
    "    return np.genfromtxt(filename, delimiter=',', usecols=(7,), dtype=int, skip_header=True)\n",
    "\n",
    "def calc_precision(dataset_filename):\n",
    "    data = clean_dataset(datatraining_filename)\n",
    "    labels = get_labels(datatraining_filename)\n",
    "\n",
    "    som = MiniSom(DIM_X, DIM_Y, 6, sigma=0.8, learning_rate=0.3)\n",
    "    som.random_weights_init(data)  # inicia com pesos aleatorios\n",
    "\n",
    "    progress(0, 100, 'Treinando...')\n",
    "    som.train_batch(data, num_iteration=ITERATION)\n",
    "    \n",
    "    label_map = np.zeros(shape=(DIM_X, DIM_Y))\n",
    "    label_map *= -1\n",
    "\n",
    "    for i, d in enumerate(data):\n",
    "        x, y = som.winner(d)\n",
    "        l = labels[i]\n",
    "        label_map[x][y] = l\n",
    "\n",
    "    data_test = clean_dataset(dataset_filename)\n",
    "    labels_test = get_labels(dataset_filename)\n",
    "\n",
    "    fig = plt.figure(figsize=(10, 10))\n",
    "    ax = fig.gca()\n",
    "    ax.set_xticks(np.arange(0, DIM_X, 1))\n",
    "    ax.set_yticks(np.arange(0, DIM_Y, 1))\n",
    "\n",
    "    hit_1 = 0\n",
    "    hit_0 = 0\n",
    "    total = len(data_test)\n",
    "    colors = ['b', 'g']\n",
    "    # azul = 0\n",
    "    # verde = 1\n",
    "    # none = neuronios nao excitados\n",
    "    for i, t in enumerate(zip(data_test, labels_test)):\n",
    "        d, l = t\n",
    "        x, y = som.winner(d)\n",
    "        \n",
    "        if l == 1 and l == label_map[x][y]:\n",
    "            hit_1 += 1\n",
    "        elif l == 0 and l == label_map[x][y]:\n",
    "            hit_0 += 1\n",
    "        \n",
    "        progress(i, total, 'Neuron {} -> {}'.format((x, y), l))\n",
    "        \n",
    "        plt.scatter(x+0.5, y+0.5, color=colors[l])\n",
    "\n",
    "    plt.axis([0, DIM_X, 0, DIM_Y])\n",
    "    plt.grid()\n",
    "    plt.show()\n",
    "\n",
    "    precision_1 = round((hit_1 * 100) / total, 4)\n",
    "    precision_0 = round((hit_0 * 100) / total, 4)\n",
    "    error_1 = 100.0 - precision_1\n",
    "    error_0 = 100.0 - precision_0\n",
    "    print('')\n",
    "\n",
    "    print('Taxa de acerto da classe 1 \\t-> {}%'.format(precision_1))\n",
    "    print('Taxa de acerto da classe 0 \\t-> {}%'.format(precision_0))\n",
    "    print('Total: {}%'.format(precision_1+precision_0))\n",
    "\n",
    "    print('')\n",
    "    print('Taxa de erro da classe 1 \\t-> {}%'.format(error_1))\n",
    "    print('Taxa de erro da classe 0 \\t-> {}%'.format(error_0))\n",
    "    \n",
    "    progress(100, 100, 'Feito!!!')"
   ]
  },
  {
   "cell_type": "markdown",
   "metadata": {},
   "source": [
    "### Teste com o arquivo datatest.txt e datatest2.txt"
   ]
  },
  {
   "cell_type": "code",
   "execution_count": 17,
   "metadata": {},
   "outputs": [
    {
     "name": "stdout",
     "output_type": "stream",
     "text": [
      "[==============================================--------------] 76.1% ...Neuron (2, 9) -> 001\r"
     ]
    },
    {
     "ename": "KeyboardInterrupt",
     "evalue": "",
     "output_type": "error",
     "traceback": [
      "\u001b[0;31m---------------------------------------------------------------------------\u001b[0m",
      "\u001b[0;31mKeyboardInterrupt\u001b[0m                         Traceback (most recent call last)",
      "\u001b[0;32m<ipython-input-17-d25da1ded351>\u001b[0m in \u001b[0;36m<module>\u001b[0;34m()\u001b[0m\n\u001b[0;32m----> 1\u001b[0;31m \u001b[0mcalc_precision\u001b[0m\u001b[0;34m(\u001b[0m\u001b[0mdatatest_filename\u001b[0m\u001b[0;34m)\u001b[0m\u001b[0;34m\u001b[0m\u001b[0m\n\u001b[0m",
      "\u001b[0;32m<ipython-input-16-3d460d9bc541>\u001b[0m in \u001b[0;36mcalc_precision\u001b[0;34m(dataset_filename)\u001b[0m\n\u001b[1;32m     49\u001b[0m             \u001b[0mhit_0\u001b[0m \u001b[0;34m+=\u001b[0m \u001b[0;36m1\u001b[0m\u001b[0;34m\u001b[0m\u001b[0m\n\u001b[1;32m     50\u001b[0m \u001b[0;34m\u001b[0m\u001b[0m\n\u001b[0;32m---> 51\u001b[0;31m         \u001b[0mprogress\u001b[0m\u001b[0;34m(\u001b[0m\u001b[0mi\u001b[0m\u001b[0;34m,\u001b[0m \u001b[0mtotal\u001b[0m\u001b[0;34m,\u001b[0m \u001b[0;34m'Neuron {} -> {}'\u001b[0m\u001b[0;34m.\u001b[0m\u001b[0mformat\u001b[0m\u001b[0;34m(\u001b[0m\u001b[0;34m(\u001b[0m\u001b[0mx\u001b[0m\u001b[0;34m,\u001b[0m \u001b[0my\u001b[0m\u001b[0;34m)\u001b[0m\u001b[0;34m,\u001b[0m \u001b[0ml\u001b[0m\u001b[0;34m)\u001b[0m\u001b[0;34m)\u001b[0m\u001b[0;34m\u001b[0m\u001b[0m\n\u001b[0m\u001b[1;32m     52\u001b[0m \u001b[0;34m\u001b[0m\u001b[0m\n\u001b[1;32m     53\u001b[0m         \u001b[0mplt\u001b[0m\u001b[0;34m.\u001b[0m\u001b[0mscatter\u001b[0m\u001b[0;34m(\u001b[0m\u001b[0mx\u001b[0m\u001b[0;34m+\u001b[0m\u001b[0;36m0.5\u001b[0m\u001b[0;34m,\u001b[0m \u001b[0my\u001b[0m\u001b[0;34m+\u001b[0m\u001b[0;36m0.5\u001b[0m\u001b[0;34m,\u001b[0m \u001b[0mcolor\u001b[0m\u001b[0;34m=\u001b[0m\u001b[0mcolors\u001b[0m\u001b[0;34m[\u001b[0m\u001b[0ml\u001b[0m\u001b[0;34m]\u001b[0m\u001b[0;34m)\u001b[0m\u001b[0;34m\u001b[0m\u001b[0m\n",
      "\u001b[0;32m~/workspace/trabalho2-ia/utils.py\u001b[0m in \u001b[0;36mprogress\u001b[0;34m(count, total, status)\u001b[0m\n\u001b[1;32m      5\u001b[0m \u001b[0;34m\u001b[0m\u001b[0m\n\u001b[1;32m      6\u001b[0m \u001b[0;32mdef\u001b[0m \u001b[0mprogress\u001b[0m\u001b[0;34m(\u001b[0m\u001b[0mcount\u001b[0m\u001b[0;34m,\u001b[0m \u001b[0mtotal\u001b[0m\u001b[0;34m,\u001b[0m \u001b[0mstatus\u001b[0m\u001b[0;34m=\u001b[0m\u001b[0;34m''\u001b[0m\u001b[0;34m)\u001b[0m\u001b[0;34m:\u001b[0m\u001b[0;34m\u001b[0m\u001b[0m\n\u001b[0;32m----> 7\u001b[0;31m     \u001b[0msleep\u001b[0m\u001b[0;34m(\u001b[0m\u001b[0;36m0.01\u001b[0m\u001b[0;34m)\u001b[0m\u001b[0;34m\u001b[0m\u001b[0m\n\u001b[0m\u001b[1;32m      8\u001b[0m \u001b[0;34m\u001b[0m\u001b[0m\n\u001b[1;32m      9\u001b[0m     \u001b[0mbar_len\u001b[0m \u001b[0;34m=\u001b[0m \u001b[0;36m60\u001b[0m\u001b[0;34m\u001b[0m\u001b[0m\n",
      "\u001b[0;31mKeyboardInterrupt\u001b[0m: "
     ]
    },
    {
     "data": {
      "image/png": "[encoded data removed]",
      "text/plain": [
       "<matplotlib.figure.Figure at 0x7f4814779550>"
      ]
     },
     "metadata": {},
     "output_type": "display_data"
    }
   ],
   "source": [
    "calc_precision(datatest_filename)"
   ]
  },
  {
   "cell_type": "code",
   "execution_count": 15,
   "metadata": {},
   "outputs": [
    {
     "name": "stdout",
     "output_type": "stream",
     "text": [
      "[============================================================] 100.0% ...Neuron (10, 9) -> 1\r"
     ]
    },
    {
     "data": {
      "image/png": "[encoded data removed]",
      "text/plain": [
       "<matplotlib.figure.Figure at 0x7f4819695978>"
      ]
     },
     "metadata": {},
     "output_type": "display_data"
    },
    {
     "name": "stdout",
     "output_type": "stream",
     "text": [
      "\n",
      "Taxa de acerto da classe 1 \t-> 19.3396%\n",
      "Taxa de acerto da classe 0 \t-> 76.8253%\n",
      "Total: 96.1649%\n",
      "\n",
      "Taxa de erro da classe 1 \t-> 80.6604%\n",
      "Taxa de erro da classe 0 \t-> 23.1747%\n"
     ]
    }
   ],
   "source": [
    "calc_precision(datatest2_filename)"
   ]
  },
  {
   "cell_type": "code",
   "execution_count": null,
   "metadata": {},
   "outputs": [],
   "source": []
  }
 ],
 "metadata": {
  "kernelspec": {
   "display_name": "Python 3",
   "language": "python",
   "name": "python3"
  },
  "language_info": {
   "codemirror_mode": {
    "name": "ipython",
    "version": 3
   },
   "file_extension": ".py",
   "mimetype": "text/x-python",
   "name": "python",
   "nbconvert_exporter": "python",
   "pygments_lexer": "ipython3",
   "version": "3.6.2"
  }
 },
 "nbformat": 4,
 "nbformat_minor": 2
}
